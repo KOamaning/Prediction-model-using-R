{
  "nbformat": 4,
  "nbformat_minor": 0,
  "metadata": {
    "colab": {
      "provenance": []
    },
    "kernelspec": {
      "name": "ir",
      "display_name": "R"
    },
    "language_info": {
      "name": "R"
    }
  },
  "cells": [
    {
      "cell_type": "code",
      "execution_count": 1,
      "metadata": {
        "id": "4LS5WWuBrXDj",
        "colab": {
          "base_uri": "https://localhost:8080/",
          "height": 730
        },
        "outputId": "a75afe70-e993-4480-bd6a-d612aaa43931"
      },
      "outputs": [
        {
          "output_type": "stream",
          "name": "stderr",
          "text": [
            "\n",
            "Attaching package: ‘dplyr’\n",
            "\n",
            "\n",
            "The following objects are masked from ‘package:stats’:\n",
            "\n",
            "    filter, lag\n",
            "\n",
            "\n",
            "The following objects are masked from ‘package:base’:\n",
            "\n",
            "    intersect, setdiff, setequal, union\n",
            "\n",
            "\n"
          ]
        },
        {
          "output_type": "display_data",
          "data": {
            "text/plain": [
              "\n",
              "Call:\n",
              "glm(formula = Complication ~ Weight + Age + Diabetes, family = binomial, \n",
              "    data = data)\n",
              "\n",
              "Coefficients:\n",
              "             Estimate Std. Error z value Pr(>|z|)    \n",
              "(Intercept) -7.090856   1.744391  -4.065 4.80e-05 ***\n",
              "Weight       0.024129   0.008243   2.927  0.00342 ** \n",
              "Age          0.017836   0.009856   1.810  0.07036 .  \n",
              "Diabetes     1.679598   0.389633   4.311 1.63e-05 ***\n",
              "---\n",
              "Signif. codes:  0 ‘***’ 0.001 ‘**’ 0.01 ‘*’ 0.05 ‘.’ 0.1 ‘ ’ 1\n",
              "\n",
              "(Dispersion parameter for binomial family taken to be 1)\n",
              "\n",
              "    Null deviance: 245.64  on 239  degrees of freedom\n",
              "Residual deviance: 215.94  on 236  degrees of freedom\n",
              "AIC: 223.94\n",
              "\n",
              "Number of Fisher Scoring iterations: 4\n"
            ]
          },
          "metadata": {}
        },
        {
          "output_type": "stream",
          "name": "stdout",
          "text": [
            "[1] \"The odds of complications for a 60-year-old diabetic patient weighing 180 pounds are: 1.002\"\n",
            "[1] \"The odds of complications for a 60-year-old non-diabetic patient weighing 180 pounds are: 0.187\"\n",
            "[1] \"The percentage difference in odds between diabetic and non-diabetic patients is: 436.34 %\"\n"
          ]
        }
      ],
      "source": [
        "# Load required libraries\n",
        "library(readxl)\n",
        "library(dplyr)\n",
        "library(broom)\n",
        "\n",
        "# Read the Excel file\n",
        "file_path <- \"/content/jaggia_ba_2e_ch09_data.xlsx\"\n",
        "data <- read_excel(file_path, sheet = \"Complication\")\n",
        "\n",
        "# Fit the logistic regression model\n",
        "model <- glm(Complication ~ Weight + Age + Diabetes, data = data, family = binomial)\n",
        "\n",
        "# View the model summary\n",
        "summary(model)\n",
        "\n",
        "#a\n",
        "# Create a new data frame with the patient's characteristics\n",
        "new_patient <- data.frame(Weight = 180, Age = 60, Diabetes = 1)\n",
        "\n",
        "# Predict the log-odds\n",
        "log_odds <- predict(model, newdata = new_patient)\n",
        "\n",
        "# Convert log-odds to odds\n",
        "odds <- exp(log_odds)\n",
        "\n",
        "print(paste(\"The odds of complications for a 60-year-old diabetic patient weighing 180 pounds are:\", round(odds, 3)))\n",
        "\n",
        "\n",
        "#b\n",
        "# Update the new patient data frame\n",
        "new_patient_nondiabetic <- data.frame(Weight = 180, Age = 60, Diabetes = 0)\n",
        "\n",
        "# Predict the log-odds\n",
        "log_odds_nondiabetic <- predict(model, newdata = new_patient_nondiabetic)\n",
        "\n",
        "# Convert log-odds to odds\n",
        "odds_nondiabetic <- exp(log_odds_nondiabetic)\n",
        "\n",
        "print(paste(\"The odds of complications for a 60-year-old non-diabetic patient weighing 180 pounds are:\", round(odds_nondiabetic, 3)))\n",
        "\n",
        "#c\n",
        "# Calculate the percentage difference\n",
        "percentage_difference <- (odds - odds_nondiabetic) / odds_nondiabetic * 100\n",
        "\n",
        "print(paste(\"The percentage difference in odds between diabetic and non-diabetic patients is:\", round(percentage_difference, 2), \"%\"))"
      ]
    },
    {
      "cell_type": "code",
      "source": [
        "install.packages('caret')"
      ],
      "metadata": {
        "colab": {
          "base_uri": "https://localhost:8080/"
        },
        "id": "RHcGc5Q2yDI3",
        "outputId": "8941b967-317f-4994-94fe-f85df4b133fa"
      },
      "execution_count": 5,
      "outputs": [
        {
          "output_type": "stream",
          "name": "stderr",
          "text": [
            "Installing package into ‘/usr/local/lib/R/site-library’\n",
            "(as ‘lib’ is unspecified)\n",
            "\n",
            "also installing the dependencies ‘listenv’, ‘parallelly’, ‘future’, ‘globals’, ‘shape’, ‘future.apply’, ‘numDeriv’, ‘progressr’, ‘SQUAREM’, ‘diagram’, ‘lava’, ‘prodlim’, ‘proxy’, ‘iterators’, ‘clock’, ‘gower’, ‘hardhat’, ‘ipred’, ‘timeDate’, ‘e1071’, ‘foreach’, ‘ModelMetrics’, ‘plyr’, ‘pROC’, ‘recipes’, ‘reshape2’\n",
            "\n",
            "\n"
          ]
        }
      ]
    },
    {
      "cell_type": "code",
      "source": [
        "\n",
        "library(readxl)\n",
        "library(dplyr)\n",
        "library(caret)\n",
        "\n",
        "# Read the Excel file\n",
        "file_path <- \"/content/jaggia_ba_2e_ch09_data.xlsx\"\n",
        "data <- read_excel(file_path, sheet = \"Subscription\")\n",
        "\n",
        "# Convert Sex to factor\n",
        "data$Sex <- as.factor(data$Sex)\n",
        "\n",
        "#a\n",
        "# Fit the model\n",
        "model_a <- glm(Subscribe ~ Discount + Age, data = data, family = binomial)\n",
        "\n",
        "# Compute predictions\n",
        "predictions_a <- ifelse(predict(model_a, type = \"response\") > 0.5, 1, 0)\n",
        "\n",
        "# Calculate accuracy\n",
        "accuracy_a <- mean(predictions_a == data$Subscribe)\n",
        "\n",
        "# Print results\n",
        "summary(model_a)\n",
        "cat(\"\\nAccuracy rate for model a:\", accuracy_a, \"\\n\")\n",
        "\n",
        "#b\n",
        "# Fit the extended model\n",
        "model_b <- glm(Subscribe ~ Discount + Age + Sex, data = data, family = binomial)\n",
        "\n",
        "# Compute predictions\n",
        "predictions_b <- ifelse(predict(model_b, type = \"response\") > 0.5, 1, 0)\n",
        "\n",
        "# Calculate accuracy\n",
        "accuracy_b <- mean(predictions_b == data$Subscribe)\n",
        "\n",
        "# Print results\n",
        "summary(model_b)\n",
        "cat(\"\\nAccuracy rate for model b:\", accuracy_b, \"\\n\")\n",
        "\n",
        "#c\n",
        "# Create new data for prediction\n",
        "new_data <- data.frame(\n",
        "  Discount = c(10, 10),\n",
        "  Age = c(50, 50),\n",
        "  Sex = factor(c(\"Male\", \"Female\"), levels = levels(data$Sex))\n",
        ")\n",
        "\n",
        "# Predict probabilities\n",
        "probabilities <- predict(model_b, newdata = new_data, type = \"response\")\n",
        "\n",
        "# Print results\n",
        "cat(\"\\nPredicted subscription probabilities:\\n\")\n",
        "cat(\"50-year-old male customer with 10% discount:\", probabilities[1], \"\\n\")\n",
        "cat(\"50-year-old female customer with 10% discount:\", probabilities[2], \"\\n\")"
      ],
      "metadata": {
        "colab": {
          "base_uri": "https://localhost:8080/",
          "height": 984
        },
        "id": "5ruiIw7rtwBa",
        "outputId": "31f0cd8d-a085-4cb8-90e2-f3a8cd3c797e"
      },
      "execution_count": 6,
      "outputs": [
        {
          "output_type": "stream",
          "name": "stderr",
          "text": [
            "Loading required package: ggplot2\n",
            "\n",
            "Loading required package: lattice\n",
            "\n"
          ]
        },
        {
          "output_type": "display_data",
          "data": {
            "text/plain": [
              "\n",
              "Call:\n",
              "glm(formula = Subscribe ~ Discount + Age, family = binomial, \n",
              "    data = data)\n",
              "\n",
              "Coefficients:\n",
              "             Estimate Std. Error z value Pr(>|z|)    \n",
              "(Intercept) -1.815622   0.456864  -3.974 7.06e-05 ***\n",
              "Discount     0.148114   0.026072   5.681 1.34e-08 ***\n",
              "Age          0.020425   0.007563   2.701  0.00692 ** \n",
              "---\n",
              "Signif. codes:  0 ‘***’ 0.001 ‘**’ 0.01 ‘*’ 0.05 ‘.’ 0.1 ‘ ’ 1\n",
              "\n",
              "(Dispersion parameter for binomial family taken to be 1)\n",
              "\n",
              "    Null deviance: 390.89  on 299  degrees of freedom\n",
              "Residual deviance: 346.73  on 297  degrees of freedom\n",
              "AIC: 352.73\n",
              "\n",
              "Number of Fisher Scoring iterations: 3\n"
            ]
          },
          "metadata": {}
        },
        {
          "output_type": "stream",
          "name": "stdout",
          "text": [
            "\n",
            "Accuracy rate for model a: 0.7066667 \n"
          ]
        },
        {
          "output_type": "display_data",
          "data": {
            "text/plain": [
              "\n",
              "Call:\n",
              "glm(formula = Subscribe ~ Discount + Age + Sex, family = binomial, \n",
              "    data = data)\n",
              "\n",
              "Coefficients:\n",
              "             Estimate Std. Error z value Pr(>|z|)    \n",
              "(Intercept) -1.532078   0.478568  -3.201  0.00137 ** \n",
              "Discount     0.147534   0.026318   5.606 2.07e-08 ***\n",
              "Age          0.020445   0.007632   2.679  0.00739 ** \n",
              "SexMale     -0.551733   0.262586  -2.101  0.03563 *  \n",
              "---\n",
              "Signif. codes:  0 ‘***’ 0.001 ‘**’ 0.01 ‘*’ 0.05 ‘.’ 0.1 ‘ ’ 1\n",
              "\n",
              "(Dispersion parameter for binomial family taken to be 1)\n",
              "\n",
              "    Null deviance: 390.89  on 299  degrees of freedom\n",
              "Residual deviance: 342.27  on 296  degrees of freedom\n",
              "AIC: 350.27\n",
              "\n",
              "Number of Fisher Scoring iterations: 4\n"
            ]
          },
          "metadata": {}
        },
        {
          "output_type": "stream",
          "name": "stdout",
          "text": [
            "\n",
            "Accuracy rate for model b: 0.7333333 \n",
            "\n",
            "Predicted subscription probabilities:\n",
            "50-year-old male customer with 10% discount: 0.6019896 \n",
            "50-year-old female customer with 10% discount: 0.7242207 \n"
          ]
        }
      ]
    },
    {
      "cell_type": "code",
      "source": [
        "library(readxl)\n",
        "library(caret)\n",
        "library(dplyr)\n",
        "\n",
        "# Read the Excel file\n",
        "file_path <- \"/content/jaggia_ba_2e_ch09_data.xlsx\"\n",
        "data <- read_excel(file_path, sheet = \"Exercise_9.33\")\n",
        "\n",
        "#a\n",
        "# Split the data\n",
        "set.seed(123)  # for reproducibility\n",
        "train_data <- data[1:75, ]\n",
        "test_data <- data[76:100, ]\n",
        "\n",
        "# Model 1: using x1\n",
        "model1 <- glm(y ~ x1, data = train_data, family = binomial)\n",
        "predictions1 <- ifelse(predict(model1, newdata = test_data, type = \"response\") > 0.5, 1, 0)\n",
        "accuracy1 <- mean(predictions1 == test_data$y)\n",
        "\n",
        "# Model 2: using x1 and x2\n",
        "model2 <- glm(y ~ x1 + x2, data = train_data, family = binomial)\n",
        "predictions2 <- ifelse(predict(model2, newdata = test_data, type = \"response\") > 0.5, 1, 0)\n",
        "accuracy2 <- mean(predictions2 == test_data$y)\n",
        "\n",
        "# Print results\n",
        "cat(\"Accuracy of Model 1 (x1 only):\", accuracy1, \"\\n\")\n",
        "cat(\"Accuracy of Model 2 (x1 and x2):\", accuracy2, \"\\n\")\n",
        "\n",
        "#b\n",
        "# Determine the preferred model based on accuracy\n",
        "preferred_model <- if(accuracy2 > accuracy1) model2 else model1\n",
        "\n",
        "# Re-estimate the preferred model with all data\n",
        "if(accuracy2 > accuracy1) {\n",
        "  final_model <- glm(y ~ x1 + x2, data = data, family = binomial)\n",
        "} else {\n",
        "  final_model <- glm(y ~ x1, data = data, family = binomial)\n",
        "}\n",
        "\n",
        "# Predict probability of success when x1 = 25 and x2 = 50\n",
        "new_data <- data.frame(x1 = 25, x2 = 50)\n",
        "predicted_prob <- predict(final_model, newdata = new_data, type = \"response\")\n",
        "\n",
        "# Print results\n",
        "cat(\"\\nPreferred model summary:\\n\")\n",
        "print(summary(final_model))\n",
        "cat(\"\\nPredicted probability of success when x1 = 25 and x2 = 50:\", predicted_prob, \"\\n\")\n"
      ],
      "metadata": {
        "colab": {
          "base_uri": "https://localhost:8080/"
        },
        "id": "u2HFaeDY1bM1",
        "outputId": "6da8a026-5da7-4ced-db1e-8f2f6ae8638c"
      },
      "execution_count": 7,
      "outputs": [
        {
          "output_type": "stream",
          "name": "stdout",
          "text": [
            "Accuracy of Model 1 (x1 only): 0.68 \n",
            "Accuracy of Model 2 (x1 and x2): 0.84 \n",
            "\n",
            "Preferred model summary:\n",
            "\n",
            "Call:\n",
            "glm(formula = y ~ x1 + x2, family = binomial, data = data)\n",
            "\n",
            "Coefficients:\n",
            "            Estimate Std. Error z value Pr(>|z|)    \n",
            "(Intercept)  4.69867    1.67055   2.813 0.004914 ** \n",
            "x1           0.11926    0.03505   3.402 0.000668 ***\n",
            "x2          -0.13103    0.03016  -4.344  1.4e-05 ***\n",
            "---\n",
            "Signif. codes:  0 ‘***’ 0.001 ‘**’ 0.01 ‘*’ 0.05 ‘.’ 0.1 ‘ ’ 1\n",
            "\n",
            "(Dispersion parameter for binomial family taken to be 1)\n",
            "\n",
            "    Null deviance: 131.791  on 99  degrees of freedom\n",
            "Residual deviance:  88.787  on 97  degrees of freedom\n",
            "AIC: 94.787\n",
            "\n",
            "Number of Fisher Scoring iterations: 5\n",
            "\n",
            "\n",
            "Predicted probability of success when x1 = 25 and x2 = 50: 0.7555839 \n"
          ]
        }
      ]
    },
    {
      "cell_type": "code",
      "source": [
        "library(readxl)\n",
        "library(caret)\n",
        "library(pROC)\n",
        "\n",
        "# Read the Excel file\n",
        "file_path <- \"/content/jaggia_ba_2e_ch09_data.xlsx\"\n",
        "data <- read_excel(file_path, sheet = \"Default\")\n",
        "\n",
        "# Convert Default to factor\n",
        "data$Default <- as.factor(data$Default)\n",
        "\n",
        "#a\n",
        "# Split the data\n",
        "set.seed(123)  # for reproducibility\n",
        "train_data <- data[1:300, ]\n",
        "test_data <- data[301:400, ]\n",
        "\n",
        "# Fit the model\n",
        "model <- glm(Default ~ LTV + FICO + Age, data = train_data, family = binomial)\n",
        "\n",
        "# Predict probabilities\n",
        "pred_probs <- predict(model, newdata = test_data, type = \"response\")\n",
        "\n",
        "# Calculate performance measures with cutoff 0.50\n",
        "predictions <- ifelse(pred_probs > 0.50, 1, 0)\n",
        "conf_matrix <- confusionMatrix(factor(predictions), test_data$Default, positive = \"1\")\n",
        "\n",
        "cat(\"Performance measures with cutoff 0.50:\\n\")\n",
        "cat(\"Accuracy:\", conf_matrix$overall[\"Accuracy\"], \"\\n\")\n",
        "cat(\"Sensitivity:\", conf_matrix$byClass[\"Sensitivity\"], \"\\n\")\n",
        "cat(\"Specificity:\", conf_matrix$byClass[\"Specificity\"], \"\\n\\n\")\n",
        "\n",
        "#b\n",
        "# Calculate proportion of defaults in training set\n",
        "default_prop <- mean(train_data$Default == 1)\n",
        "\n",
        "# Calculate performance measures with new cutoff\n",
        "predictions_prop <- ifelse(pred_probs > default_prop, 1, 0)\n",
        "conf_matrix_prop <- confusionMatrix(factor(predictions_prop), test_data$Default, positive = \"1\")\n",
        "\n",
        "cat(\"Performance measures with cutoff equal to proportion of defaults:\\n\")\n",
        "cat(\"Cutoff value:\", default_prop, \"\\n\")\n",
        "cat(\"Accuracy:\", conf_matrix_prop$overall[\"Accuracy\"], \"\\n\")\n",
        "cat(\"Sensitivity:\", conf_matrix_prop$byClass[\"Sensitivity\"], \"\\n\")\n",
        "cat(\"Specificity:\", conf_matrix_prop$byClass[\"Specificity\"], \"\\n\\n\")\n",
        "\n",
        "#c\n",
        "# Compare performance measures\n",
        "cat(\"Comparison of cutoffs:\\n\")\n",
        "cat(\"Cutoff 0.50 - Accuracy:\", conf_matrix$overall[\"Accuracy\"], \"\\n\")\n",
        "cat(\"Proportion cutoff -  Accuracy:\", conf_matrix_prop$overall[\"Accuracy\"], \"\\n\\n\")\n",
        "\n",
        "# Calculate ROC curve and AUC\n",
        "roc_curve <- roc(test_data$Default, pred_probs)\n",
        "auc_value <- auc(roc_curve)\n",
        "\n",
        "cat(\"AUC:\", auc_value, \"\\n\\n\")\n",
        "\n",
        "cat(\"Explanation:\\n\")\n",
        "if (conf_matrix$overall[\"Accuracy\"] > conf_matrix_prop$overall[\"Accuracy\"]) {\n",
        "  cat(\"The cutoff of 0.50 is preferred as it yields higher accuracy.\\n\")\n",
        "} else if (conf_matrix$overall[\"Accuracy\"] < conf_matrix_prop$overall[\"Accuracy\"]) {\n",
        "  cat(\"The cutoff based on the proportion of defaults is preferred as it yields higher accuracy.\\n\")\n",
        "} else {\n",
        "  cat(\"Both cutoffs perform similarly in terms of accuracy.\\n\")\n",
        "}\n",
        "\n",
        "cat(\"\\nHowever, the choice of cutoff should also consider the business context:\")\n",
        "cat(\"\\n1. If minimizing false negatives (defaults predicted as non-defaults) is crucial, prefer the cutoff with higher sensitivity.\")\n",
        "cat(\"\\n2. If minimizing false positives (non-defaults predicted as defaults) is important, prefer the cutoff with higher specificity.\")\n",
        "cat(\"\\n3. The AUC value of\", round(auc_value, 3), \"indicates the model's overall discriminative power, regardless of cutoff.\")\n",
        "cat(\"\\n\\nThe final decision should balance these factors along with the specific costs and risks associated with false positives and false negatives in the loan default context.\")\n",
        "\n",
        "\n"
      ],
      "metadata": {
        "colab": {
          "base_uri": "https://localhost:8080/"
        },
        "id": "nLTn4rBp1sJT",
        "outputId": "520d9dc5-2654-4541-ab4a-2abc8bdd4d33"
      },
      "execution_count": 8,
      "outputs": [
        {
          "output_type": "stream",
          "name": "stderr",
          "text": [
            "Type 'citation(\"pROC\")' for a citation.\n",
            "\n",
            "\n",
            "Attaching package: ‘pROC’\n",
            "\n",
            "\n",
            "The following objects are masked from ‘package:stats’:\n",
            "\n",
            "    cov, smooth, var\n",
            "\n",
            "\n"
          ]
        },
        {
          "output_type": "stream",
          "name": "stdout",
          "text": [
            "Performance measures with cutoff 0.50:\n",
            "Accuracy: 0.87 \n",
            "Sensitivity: 0.3333333 \n",
            "Specificity: 0.9431818 \n",
            "\n",
            "Performance measures with cutoff equal to proportion of defaults:\n",
            "Cutoff value: 0.09 \n",
            "Accuracy: 0.8 \n",
            "Sensitivity: 0.75 \n",
            "Specificity: 0.8068182 \n",
            "\n",
            "Comparison of cutoffs:\n",
            "Cutoff 0.50 - Accuracy: 0.87 \n",
            "Proportion cutoff -  Accuracy: 0.8 \n",
            "\n"
          ]
        },
        {
          "output_type": "stream",
          "name": "stderr",
          "text": [
            "Setting levels: control = 0, case = 1\n",
            "\n",
            "Setting direction: controls < cases\n",
            "\n"
          ]
        },
        {
          "output_type": "stream",
          "name": "stdout",
          "text": [
            "AUC: 0.9034091 \n",
            "\n",
            "Explanation:\n",
            "The cutoff of 0.50 is preferred as it yields higher accuracy.\n",
            "\n",
            "However, the choice of cutoff should also consider the business context:\n",
            "1. If minimizing false negatives (defaults predicted as non-defaults) is crucial, prefer the cutoff with higher sensitivity.\n",
            "2. If minimizing false positives (non-defaults predicted as defaults) is important, prefer the cutoff with higher specificity.\n",
            "3. The AUC value of 0.903 indicates the model's overall discriminative power, regardless of cutoff.\n",
            "\n",
            "The final decision should balance these factors along with the specific costs and risks associated with false positives and false negatives in the loan default context."
          ]
        }
      ]
    },
    {
      "cell_type": "code",
      "source": [
        "# Load required libraries\n",
        "library(glmnet)\n",
        "library(caret)\n",
        "library(dplyr)\n",
        "\n",
        "# Read the data\n",
        "college_data <- read.csv(\"/content/College.csv\", row.names = 1)\n",
        "\n",
        "# Convert categorical variables to factors\n",
        "college_data$Private <- as.factor(college_data$Private)\n",
        "\n",
        "# Split the data into features and target variable\n",
        "X <- model.matrix(Grad.Rate ~ ., college_data)[,-1]  # Remove intercept\n",
        "y <- college_data$Grad.Rate\n",
        "\n",
        "# Split the data into training and testing sets\n",
        "set.seed(123)\n",
        "train_indices <- createDataPartition(y, p = 0.8, list = FALSE)\n",
        "X_train <- X[train_indices,]\n",
        "X_test <- X[-train_indices,]\n",
        "y_train <- y[train_indices]\n",
        "y_test <- y[-train_indices]\n",
        "\n",
        "# Fit Lasso regression model\n",
        "lasso_model <- cv.glmnet(X_train, y_train, alpha = 1)\n",
        "\n",
        "# Print the best lambda value\n",
        "cat(\"Best lambda for Lasso:\", lasso_model$lambda.min, \"\\n\")\n",
        "\n",
        "# Get the coefficients for the best model\n",
        "lasso_coef <- coef(lasso_model, s = \"lambda.min\")\n",
        "\n",
        "# Print non-zero coefficients (selected features)\n",
        "cat(\"Selected features by Lasso:\\n\")\n",
        "selected_features <- lasso_coef[lasso_coef != 0]\n",
        "print(selected_features)\n",
        "\n",
        "# Make predictions on the test set\n",
        "lasso_pred <- predict(lasso_model, newx = X_test, s = \"lambda.min\")\n",
        "\n",
        "# Calculate RMSE for Lasso\n",
        "lasso_rmse <- sqrt(mean((lasso_pred - y_test)^2))\n",
        "cat(\"Lasso RMSE:\", lasso_rmse, \"\\n\")\n",
        "\n",
        "# Calculate R-squared for Lasso\n",
        "lasso_r_squared <- 1 - sum((y_test - lasso_pred)^2) / sum((y_test - mean(y_test))^2)\n",
        "cat(\"Lasso R-squared:\", lasso_r_squared, \"\\n\")\n",
        "\n",
        "# Number of selected features\n",
        "num_selected_features <- sum(lasso_coef != 0) - 1  # Subtract 1 for intercept\n",
        "cat(\"Number of selected features:\", num_selected_features, \"\\n\")\n",
        "\n",
        "# Plot of coefficient paths\n",
        "par(mfrow=c(1,2))  # Set up a 1x2 plotting area\n",
        "\n",
        "# Coefficient path plot\n",
        "plot(lasso_model, main=\"Coefficient Paths\")\n",
        "grid()\n",
        "\n",
        "# Cross-validated mean squared error plot\n",
        "plot(lasso_model$glmnet.fit, xvar=\"lambda\", main=\"Cross-validated MSE\")\n",
        "points(log(lasso_model$lambda.min), lasso_model$cvm[lasso_model$lambda == lasso_model$lambda.min],\n",
        "       col=\"red\", pch=19)\n",
        "grid()\n",
        "\n",
        "# Reset plotting area\n",
        "par(mfrow=c(1,1))\n",
        "\n",
        "# Print feature importance\n",
        "feature_importance <- abs(coef(lasso_model, s = \"lambda.min\"))[-1]  # Exclude intercept\n",
        "feature_names <- rownames(coef(lasso_model))[-1]  # Exclude intercept\n",
        "feature_importance_df <- data.frame(\n",
        "  Feature = feature_names,\n",
        "  Importance = as.vector(feature_importance)\n",
        ")\n",
        "feature_importance_df <- feature_importance_df[feature_importance_df$Importance != 0, ]\n",
        "feature_importance_df <- feature_importance_df[order(-feature_importance_df$Importance), ]\n",
        "\n",
        "cat(\"\\nFeature Importance (non-zero coefficients):\\n\")\n",
        "print(feature_importance_df)"
      ],
      "metadata": {
        "colab": {
          "base_uri": "https://localhost:8080/",
          "height": 856
        },
        "id": "qzICeRvP2lhl",
        "outputId": "77f60074-fd71-43c9-e125-7789642a7adc"
      },
      "execution_count": 15,
      "outputs": [
        {
          "output_type": "stream",
          "name": "stdout",
          "text": [
            "Best lambda for Lasso: 0.2850894 \n",
            "Selected features by Lasso:\n",
            " [1] 31.4080931908  4.4617427468  0.0006771950  0.0602221399  0.1340634472\n",
            " [6] -0.0015148311  0.0008289511  0.0007771962 -0.0011194655  0.0762568009\n",
            "[11]  0.0445689644  0.2565670321 -0.0001854376\n",
            "Lasso RMSE: 14.37318 \n",
            "Lasso R-squared: 0.3514054 \n",
            "Number of selected features: 12 \n",
            "\n",
            "Feature Importance (non-zero coefficients):\n",
            "       Feature   Importance\n",
            "1   PrivateYes 4.4617427468\n",
            "16 perc.alumni 0.2565670321\n",
            "6    Top25perc 0.1340634472\n",
            "13         PhD 0.0762568009\n",
            "5    Top10perc 0.0602221399\n",
            "15   S.F.Ratio 0.0445689644\n",
            "8  P.Undergrad 0.0015148311\n",
            "12    Personal 0.0011194655\n",
            "9     Outstate 0.0008289511\n",
            "10  Room.Board 0.0007771962\n",
            "2         Apps 0.0006771950\n",
            "17      Expend 0.0001854376\n"
          ]
        },
        {
          "output_type": "display_data",
          "data": {
            "text/plain": [
              "Plot with title “Cross-validated MSE”"
            ],
            "image/png": "[encoded data removed]"
          },
          "metadata": {
            "image/png": {
              "width": 420,
              "height": 420
            }
          }
        }
      ]
    }
  ]
}